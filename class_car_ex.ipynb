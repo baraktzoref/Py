{
 "cells": [
  {
   "cell_type": "code",
   "execution_count": 3,
   "metadata": {},
   "outputs": [
    {
     "name": "stdout",
     "output_type": "stream",
     "text": [
      "Ammount of fuel: 100\n",
      "There is enough fuel, you can Drive\n",
      "Car has Fuel: 99.0, Gear: 3, Speed: 30, Milage: 16 \n"
     ]
    },
    {
     "data": {
      "text/plain": [
       "'Skoda Oct'"
      ]
     },
     "execution_count": 3,
     "metadata": {},
     "output_type": "execute_result"
    }
   ],
   "source": [
    "class Car():\n",
    "    \n",
    "    def __init__(self,fuel,firm,model,year):\n",
    "        self.__myFuel = fuel\n",
    "        self.__milage = 0\n",
    "        self.__fuelDis = 16\n",
    "        self.__myGear = 0\n",
    "        self.__mySpeed = 0\n",
    "        self.__maxSpeed = 100\n",
    "        self.__maxGear = 6\n",
    "        self.__myFirm = firm\n",
    "        self.__myModel = model\n",
    "        self.__myYear = year\n",
    "    \n",
    "    def addFuel(self,fuel):\n",
    "        self.__myFuel += fuel\n",
    "\n",
    "    def getMilage(self):\n",
    "        return self.__milage\n",
    "    \n",
    "    def getFuel(self):\n",
    "        return self.__myFuel\n",
    "\n",
    "    def driveDis(self,distance):\n",
    "        fueldis = distance/self.__fuelDis\n",
    "        if self.__myFuel - fueldis > 0 :\n",
    "            print (\"There is enough fuel, you can Drive\")\n",
    "            self.__milage += distance\n",
    "            self.__myFuel -= fueldis\n",
    "        else:\n",
    "            print (\"Cannot Drive, not enough fuel\")\n",
    "    \n",
    "    def startCar(self):\n",
    "        if self.__myGear > 0:\n",
    "            print (\"You already started the car\")\n",
    "        elif self.__myFuel <= 0:\n",
    "            print (\"Not enough fuel, cannot start the car\")\n",
    "        else:\n",
    "            self.__myGear = 0\n",
    "        \n",
    "    def startDrive(self):\n",
    "        if self.__myGear > 1:\n",
    "            print (\"You already start driving\")\n",
    "        else:\n",
    "            self.shiftUp()\n",
    "    \n",
    "    def shiftUp(self):\n",
    "        if self.__myGear == self.__maxGear:\n",
    "            print(\"Max Speed, cannot shift up\")\n",
    "        else:\n",
    "            self.__myGear += 1  \n",
    "            self.__mySpeed += 10\n",
    "    \n",
    "    def shiftDown(self):\n",
    "        if self.__myGear == 1:\n",
    "            self.stopDriving()\n",
    "        elif self.__myGear == 0:\n",
    "            print(\"you are in parking, cannot shift down\")\n",
    "        else:\n",
    "            self.__myGear -= 1\n",
    "            self.__mySpeed -= 10\n",
    "    \n",
    "    def stopDriving(self):\n",
    "        self.__myGear = 0\n",
    "        self.__mySpeed = 0\n",
    "\n",
    "    def getSpeed(self):\n",
    "        return self.__mySpeed\n",
    "\n",
    "    def getGear(self):\n",
    "        return self.__myGear\n",
    "    \n",
    "    def __str__(self):\n",
    "        return self.__myFirm + ' ' + self.__myModel\n",
    "\n",
    "\n",
    "car1 = Car(100,'Skoda','Oct','2021')\n",
    "print(f'Ammount of fuel: {car1.getFuel()}')\n",
    "car1.startCar()\n",
    "car1.startDrive()\n",
    "car1.shiftUp()\n",
    "car1.shiftUp()\n",
    "car1.driveDis(16)\n",
    "print(f'Car has Fuel: {car1.getFuel()}, Gear: {car1.getGear()}, Speed: {car1.getSpeed()}, Milage: {car1.getMilage()} ')\n",
    "str(car1)\n",
    "\n"
   ]
  },
  {
   "cell_type": "code",
   "execution_count": null,
   "metadata": {},
   "outputs": [],
   "source": []
  }
 ],
 "metadata": {
  "interpreter": {
   "hash": "aee8b7b246df8f9039afb4144a1f6fd8d2ca17a180786b69acc140d282b71a49"
  },
  "kernelspec": {
   "display_name": "Python 3.9.10 64-bit",
   "language": "python",
   "name": "python3"
  },
  "language_info": {
   "codemirror_mode": {
    "name": "ipython",
    "version": 3
   },
   "file_extension": ".py",
   "mimetype": "text/x-python",
   "name": "python",
   "nbconvert_exporter": "python",
   "pygments_lexer": "ipython3",
   "version": "3.9.10"
  },
  "orig_nbformat": 4
 },
 "nbformat": 4,
 "nbformat_minor": 2
}
