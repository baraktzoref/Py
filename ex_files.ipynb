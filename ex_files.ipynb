{
 "cells": [
  {
   "cell_type": "code",
   "execution_count": 23,
   "metadata": {},
   "outputs": [],
   "source": [
    "f=open(\"/Users/baraktzoref/Desktop/Python/text.txt\",'w')\n",
    "f.write(\"Barak1\")\n",
    "f.flush()\n",
    "f.close()\n",
    "f=open(\"/Users/baraktzoref/Desktop/Python/text.txt\")\n",
    "f.read()\n",
    "f.close()"
   ]
  },
  {
   "cell_type": "code",
   "execution_count": 24,
   "metadata": {},
   "outputs": [],
   "source": [
    "f1=open(\"/Users/baraktzoref/Desktop/Python/text.txt\")\n",
    "f1.read()\n",
    "f1.close()"
   ]
  },
  {
   "cell_type": "code",
   "execution_count": 25,
   "metadata": {},
   "outputs": [
    {
     "data": {
      "text/plain": [
       "<function TextIOWrapper.close()>"
      ]
     },
     "execution_count": 25,
     "metadata": {},
     "output_type": "execute_result"
    }
   ],
   "source": [
    "import os\n",
    "os.chdir(\"/Users/baraktzoref/Desktop/Python/\")\n",
    "\n",
    "f2=open(\"Dic.txt\",'x')\n",
    "f2.write(\"'name':'elad'\\n'age':'30'\\n'Address':'Truman'\")\n",
    "f2.flush()\n",
    "f2.close"
   ]
  },
  {
   "cell_type": "code",
   "execution_count": 1,
   "metadata": {},
   "outputs": [
    {
     "name": "stdout",
     "output_type": "stream",
     "text": [
      "{'name': 'elad\\n', 'age': '30\\n', 'Address': 'Truman'}\n"
     ]
    }
   ],
   "source": [
    "import os\n",
    "os.chdir(\"/Users/baraktzoref/Desktop/Python/\")\n",
    "\n",
    "f=open(\"Dic.txt\")\n",
    "d = dict()\n",
    "str=f.readline()\n",
    "while str != \"\":\n",
    "    key=str.split(':')[0]\n",
    "    value=str.split(':')[1]\n",
    "    d[key]=value\n",
    "    str=f.readline()\n",
    "print(d)"
   ]
  },
  {
   "cell_type": "code",
   "execution_count": 12,
   "metadata": {},
   "outputs": [
    {
     "name": "stdout",
     "output_type": "stream",
     "text": [
      "Barak\n",
      "Tzoref\n",
      "Refaeli\n",
      "25\n"
     ]
    }
   ],
   "source": [
    "import json\n",
    "f = open(\"barak.json\")\n",
    "res = json.load(f)\n",
    "\n",
    "for i in res:\n",
    "   print(res[i])\n"
   ]
  },
  {
   "cell_type": "code",
   "execution_count": null,
   "metadata": {},
   "outputs": [],
   "source": []
  }
 ],
 "metadata": {
  "interpreter": {
   "hash": "aee8b7b246df8f9039afb4144a1f6fd8d2ca17a180786b69acc140d282b71a49"
  },
  "kernelspec": {
   "display_name": "Python 3.9.10 64-bit",
   "language": "python",
   "name": "python3"
  },
  "language_info": {
   "codemirror_mode": {
    "name": "ipython",
    "version": 3
   },
   "file_extension": ".py",
   "mimetype": "text/x-python",
   "name": "python",
   "nbconvert_exporter": "python",
   "pygments_lexer": "ipython3",
   "version": "3.9.10"
  },
  "orig_nbformat": 4
 },
 "nbformat": 4,
 "nbformat_minor": 2
}
