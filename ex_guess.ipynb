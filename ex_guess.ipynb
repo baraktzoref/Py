{
 "cells": [
  {
   "cell_type": "code",
   "execution_count": 5,
   "metadata": {},
   "outputs": [
    {
     "name": "stdout",
     "output_type": "stream",
     "text": [
      "Too low!\n",
      "Too low!\n",
      "Success after 3 tries\n"
     ]
    }
   ],
   "source": [
    "import random\n",
    "iRan = random.randint(1,10)\n",
    "x = int(input(\"Guess number between 1-10:\"))\n",
    "numTries = 1\n",
    "while x != iRan:\n",
    "    numTries += 1\n",
    "    if x > iRan:\n",
    "        print(\"Too big!\")\n",
    "    else:\n",
    "        print(\"Too low!\")\n",
    "    x=int(input(\"Try again:\"))\n",
    "print (f'Success after {numTries} tries')"
   ]
  },
  {
   "cell_type": "code",
   "execution_count": 30,
   "metadata": {},
   "outputs": [
    {
     "name": "stdout",
     "output_type": "stream",
     "text": [
      "first try 18\n",
      "guess this 15\n",
      "----\n",
      "new guess 16\n",
      "new guess 15\n",
      "Success after 3 tries\n"
     ]
    }
   ],
   "source": [
    "import random\n",
    "#x = int(input(\"Enter max number range\"))\n",
    "ran1 = random.randint(1,20)\n",
    "ran2 = random.randint(1,20)\n",
    "print(f'first try {ran1}')\n",
    "print(f'guess this {ran2}')\n",
    "print('----')\n",
    "numTries = 1\n",
    "minran = 1\n",
    "maxran = 20\n",
    "while ran1 != ran2:\n",
    "    numTries += 1\n",
    "    if ran1 > ran2:\n",
    "        maxran=ran1-1 \n",
    "        ran1 = random.randint(ran2,maxran)\n",
    "    else:\n",
    "        minran = ran1+1\n",
    "        ran1 = random.randint(minran,ran2)    \n",
    "    print(f'new guess {ran1}')\n",
    "print (f'Success after {numTries} tries')"
   ]
  },
  {
   "cell_type": "code",
   "execution_count": null,
   "metadata": {},
   "outputs": [],
   "source": []
  },
  {
   "cell_type": "code",
   "execution_count": null,
   "metadata": {},
   "outputs": [],
   "source": []
  }
 ],
 "metadata": {
  "interpreter": {
   "hash": "aee8b7b246df8f9039afb4144a1f6fd8d2ca17a180786b69acc140d282b71a49"
  },
  "kernelspec": {
   "display_name": "Python 3.9.10 64-bit",
   "language": "python",
   "name": "python3"
  },
  "language_info": {
   "codemirror_mode": {
    "name": "ipython",
    "version": 3
   },
   "file_extension": ".py",
   "mimetype": "text/x-python",
   "name": "python",
   "nbconvert_exporter": "python",
   "pygments_lexer": "ipython3",
   "version": "3.9.10"
  },
  "orig_nbformat": 4
 },
 "nbformat": 4,
 "nbformat_minor": 2
}
