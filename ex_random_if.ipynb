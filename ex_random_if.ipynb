{
 "cells": [
  {
   "cell_type": "code",
   "execution_count": 1,
   "metadata": {},
   "outputs": [
    {
     "name": "stdout",
     "output_type": "stream",
     "text": [
      "The first number 339 is bigger than the second number 330\n"
     ]
    }
   ],
   "source": [
    "import random\n",
    "\n",
    "x1 = random.randint(0,1000)\n",
    "x2 = random.randint(0,1000)\n",
    "\n",
    "if x1 > x2:\n",
    "    print(\"The first number {} is bigger than the second number {}\".format (x1,x2))\n",
    "elif x2 > x1:\n",
    "    print(\"The second number {} is bigger than the first number {}\".format (x2,x1))\n",
    "else:\n",
    "    print(\"Both numbers are equal {} {}\".format (x1,x2))"
   ]
  },
  {
   "cell_type": "code",
   "execution_count": null,
   "metadata": {},
   "outputs": [],
   "source": []
  }
 ],
 "metadata": {
  "interpreter": {
   "hash": "aee8b7b246df8f9039afb4144a1f6fd8d2ca17a180786b69acc140d282b71a49"
  },
  "kernelspec": {
   "display_name": "Python 3.9.10 64-bit",
   "language": "python",
   "name": "python3"
  },
  "language_info": {
   "codemirror_mode": {
    "name": "ipython",
    "version": 3
   },
   "file_extension": ".py",
   "mimetype": "text/x-python",
   "name": "python",
   "nbconvert_exporter": "python",
   "pygments_lexer": "ipython3",
   "version": "3.9.10"
  },
  "orig_nbformat": 4
 },
 "nbformat": 4,
 "nbformat_minor": 2
}
