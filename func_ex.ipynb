{
 "cells": [
  {
   "cell_type": "code",
   "execution_count": 5,
   "metadata": {},
   "outputs": [
    {
     "name": "stdout",
     "output_type": "stream",
     "text": [
      "['5', '3', '4', '7', '8', '4', '3', '6', '3', '2']\n"
     ]
    }
   ],
   "source": [
    "from gettext import find\n",
    "\n",
    "\n",
    "def printList(list1):\n",
    "    for i in list1:\n",
    "        print (f'Hello {i} !')\n",
    "\n",
    "ls = ['Barak','Elad','Avi']\n",
    "#printList(ls)\n",
    "\n",
    "str =\"5347843632\"\n",
    "ls =list(str[0:])\n",
    "print(ls)\n",
    "\n",
    "def upperLowerString(str):\n",
    "    if str[0:1].islower():\n",
    "        return str.lower()\n",
    "    return str.upper()\n",
    "\n",
    "#print(upperLowerString(str))\n",
    "\n",
    "def findBigger(str):       \n",
    "    ls=[]\n",
    "    for i in range(0,len(str)):\n",
    "        ls.append(str[i])\n",
    "    ls.sort()\n",
    "    return(ls[len(str)-1])\n",
    "\n",
    "#print(findBigger(str))"
   ]
  },
  {
   "cell_type": "code",
   "execution_count": 8,
   "metadata": {},
   "outputs": [
    {
     "name": "stdout",
     "output_type": "stream",
     "text": [
      "Hello Barak, the time is 10:57\n"
     ]
    }
   ],
   "source": [
    "from datetime import datetime\n",
    "def printNameTime(strName):\n",
    "    t = datetime.now().time()\n",
    "    print(f'Hello {strName}, the time is {t.hour}:{t.minute}')\n",
    "\n",
    "printNameTime(\"Barak\")"
   ]
  },
  {
   "cell_type": "code",
   "execution_count": 2,
   "metadata": {},
   "outputs": [
    {
     "name": "stdout",
     "output_type": "stream",
     "text": [
      "Exception\n"
     ]
    }
   ],
   "source": [
    "import math\n",
    "\n",
    "def getSqrt(a,b,c):\n",
    "    return math.sqrt((b**2)-(4*a*c))\n",
    "\n",
    "def checkZero(a):\n",
    "    if a==0:\n",
    "        return True\n",
    "    return False\n",
    "\n",
    "def checkLegal(a,b,c):\n",
    "    if checkZero(a):\n",
    "        return False\n",
    "    if getSqrt(a,b,c) < 0:\n",
    "        return False\n",
    "    return True\n",
    "\n",
    "def printSolution(a,b,c):\n",
    "    try:\n",
    "       # if checkLegal(a,b,c):\n",
    "\n",
    "            par1 = -b\n",
    "            par2 = getSqrt(a,b,c)\n",
    "            par3 = 2*a\n",
    "\n",
    "            if par2 == 0:\n",
    "                sol1=par1/par3\n",
    "                print(f'Solution {sol1}')\n",
    "            else:\n",
    "                sol1 = (par1+par2)/par3\n",
    "                sol2 = (par1-par2)/par3        \n",
    "                print(f'Solution1={sol1}, Solution2={sol2}')\n",
    "        #else:\n",
    "         #   print(\"Not Legal\")\n",
    "    except:\n",
    "        print(\"Exception\")\n",
    "\n",
    "#print(getSqrt(1,2,-2))\n",
    "a=0\n",
    "b=2\n",
    "c=4\n",
    "sol = printSolution(a,b,c)\n"
   ]
  },
  {
   "cell_type": "code",
   "execution_count": 22,
   "metadata": {},
   "outputs": [
    {
     "name": "stdout",
     "output_type": "stream",
     "text": [
      "3.4641016151377544\n"
     ]
    }
   ],
   "source": [
    "import math\n",
    "a=1\n",
    "b=4\n",
    "c=1\n",
    "print(math.sqrt((b**2)-(4*a*c)))"
   ]
  },
  {
   "cell_type": "code",
   "execution_count": 24,
   "metadata": {},
   "outputs": [
    {
     "name": "stdout",
     "output_type": "stream",
     "text": [
      "900\n"
     ]
    }
   ],
   "source": [
    "import math\n",
    "import random\n",
    "\n",
    "defaultDis = 10\n",
    "\n",
    "def getDisccount():\n",
    "    return int(random.randint(10,20))\n",
    "\n",
    "def calFinalPrice(*,p):\n",
    "    d=defaultDis\n",
    "    if p>1000:\n",
    "        d=getDisccount()\n",
    "    return p*(1-d/100)\n",
    "        \n",
    "print(round(calFinalPrice(p=1000)))\n"
   ]
  },
  {
   "cell_type": "code",
   "execution_count": 21,
   "metadata": {},
   "outputs": [
    {
     "name": "stdout",
     "output_type": "stream",
     "text": [
      "1980.0\n"
     ]
    }
   ],
   "source": [
    "print(2000*(1-1/100))"
   ]
  },
  {
   "cell_type": "code",
   "execution_count": 50,
   "metadata": {},
   "outputs": [
    {
     "data": {
      "text/plain": [
       "'Not Palindrom'"
      ]
     },
     "execution_count": 50,
     "metadata": {},
     "output_type": "execute_result"
    }
   ],
   "source": [
    "st = \"abbaab\"\n",
    "\n",
    "def checkPalindrom(str):\n",
    "    str = str.lower()\n",
    "    b=False\n",
    "    for s in range(ord('a'),ord('z')):\n",
    "        if str.count(chr(s)) % 2 != 0:\n",
    "            if b==True:\n",
    "                return \"Not Palindrom\"\n",
    "            else:\n",
    "                b=True\n",
    "    return \"Palindrom\"\n",
    "    \n",
    "checkPalindrom(st)"
   ]
  },
  {
   "cell_type": "code",
   "execution_count": 67,
   "metadata": {},
   "outputs": [
    {
     "name": "stdout",
     "output_type": "stream",
     "text": [
      "['a', 'b', 'ab', 'bab', 'abbab']\n"
     ]
    }
   ],
   "source": [
    "def printFibonchi(*,n,a1,a2):\n",
    "    try:\n",
    "        if n <= 1:\n",
    "            print (\"Not much arguments in list\")\n",
    "        else:\n",
    "\n",
    "            ls = list()\n",
    "            ls.append(a1)\n",
    "            ls.append(a2)\n",
    "            for i in range(2,n):\n",
    "                ls.append(ls[i-2] + ls[i-1])\n",
    "\n",
    "            print (ls)\n",
    "    except:\n",
    "        print(\"Could not arrange list\")\n",
    "\n",
    "printFibonchi(n=5,a1='a',a2='b')\n",
    "\n"
   ]
  },
  {
   "cell_type": "code",
   "execution_count": 71,
   "metadata": {},
   "outputs": [
    {
     "name": "stdout",
     "output_type": "stream",
     "text": [
      "[0, 2, 4, 6, 8, 10, 12, 14, 16, 18, 20, 22, 24, 26, 28, 30]\n"
     ]
    }
   ],
   "source": [
    "def mainFunc(x):\n",
    "    ls = list()\n",
    "    def findEven(num):\n",
    "        if num%2==0:\n",
    "            return True\n",
    "        return False\n",
    "    for i in range(0,x+1):\n",
    "        if findEven(i):\n",
    "            ls.append(i)\n",
    "    return ls\n",
    "\n",
    "print(mainFunc(30))\n",
    "        "
   ]
  },
  {
   "cell_type": "code",
   "execution_count": 8,
   "metadata": {},
   "outputs": [
    {
     "name": "stdout",
     "output_type": "stream",
     "text": [
      "The number 2 is: Prime \n"
     ]
    }
   ],
   "source": [
    "import math\n",
    "def mainFunc(num):\n",
    "    def checkPrime(x):\n",
    "        if x<=1:\n",
    "            return True\n",
    "        for i in range(2,int(math.sqrt(x))+1):\n",
    "            if x%i == 0:\n",
    "                return False\n",
    "        return True\n",
    "    if (checkPrime(num)):\n",
    "        return \"Prime\"\n",
    "    return \"Not Prime\"\n",
    "\n",
    "x=2\n",
    "\n",
    "print(f'The number {x} is: {mainFunc(x)} ')\n",
    "\n",
    "\n",
    "\n",
    "\n"
   ]
  },
  {
   "cell_type": "code",
   "execution_count": null,
   "metadata": {},
   "outputs": [],
   "source": []
  }
 ],
 "metadata": {
  "interpreter": {
   "hash": "aee8b7b246df8f9039afb4144a1f6fd8d2ca17a180786b69acc140d282b71a49"
  },
  "kernelspec": {
   "display_name": "Python 3.9.10 64-bit",
   "language": "python",
   "name": "python3"
  },
  "language_info": {
   "codemirror_mode": {
    "name": "ipython",
    "version": 3
   },
   "file_extension": ".py",
   "mimetype": "text/x-python",
   "name": "python",
   "nbconvert_exporter": "python",
   "pygments_lexer": "ipython3",
   "version": "3.9.10"
  },
  "orig_nbformat": 4
 },
 "nbformat": 4,
 "nbformat_minor": 2
}
