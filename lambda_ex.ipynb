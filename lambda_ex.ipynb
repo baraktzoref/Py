{
 "cells": [
  {
   "cell_type": "code",
   "execution_count": 1,
   "metadata": {},
   "outputs": [
    {
     "name": "stdout",
     "output_type": "stream",
     "text": [
      "15\n"
     ]
    }
   ],
   "source": [
    "import random as r\n",
    "x = lambda a,n:r.randint(a,n)\n",
    "\n",
    "print(x(1,100))\n"
   ]
  },
  {
   "cell_type": "code",
   "execution_count": 2,
   "metadata": {},
   "outputs": [
    {
     "data": {
      "text/plain": [
       "False"
      ]
     },
     "execution_count": 2,
     "metadata": {},
     "output_type": "execute_result"
    }
   ],
   "source": [
    "c = lambda a,b : True if a>b else False\n",
    "\n",
    "c(1,3)"
   ]
  },
  {
   "cell_type": "code",
   "execution_count": 6,
   "metadata": {},
   "outputs": [
    {
     "data": {
      "text/plain": [
       "True"
      ]
     },
     "execution_count": 6,
     "metadata": {},
     "output_type": "execute_result"
    }
   ],
   "source": [
    "b = lambda str : True if str.lower().startswith('p') else False\n",
    "\n",
    "b('Parm')"
   ]
  },
  {
   "cell_type": "code",
   "execution_count": 7,
   "metadata": {},
   "outputs": [
    {
     "name": "stdout",
     "output_type": "stream",
     "text": [
      "[2, 5, 8, 11]\n"
     ]
    }
   ],
   "source": [
    "add = lambda x,y:x+y\n",
    "ls1 = [1,2,3,4]\n",
    "ls2 = [1,3,5,7]\n",
    "res = map(add,ls1,ls2)\n",
    "\n",
    "print(list(res))"
   ]
  },
  {
   "cell_type": "code",
   "execution_count": 23,
   "metadata": {},
   "outputs": [
    {
     "name": "stdout",
     "output_type": "stream",
     "text": [
      "['Bar', 'Gal']\n"
     ]
    }
   ],
   "source": [
    "ls1 = ['Avi','Yossi','Bar','Gal']\n",
    "ls2 = ['TLV','JRS','BSH','BSH']\n",
    "\n",
    "bsh = lambda s1,s2: s1 if s2=='BSH' else 'Other'\n",
    "\n",
    "\n",
    "res = map(bsh,ls1,ls2)\n",
    "#print(list(res))\n",
    "res1 = filter(lambda s:s!='Other',list(res))\n",
    "\n",
    "print(list(res1))\n"
   ]
  },
  {
   "cell_type": "code",
   "execution_count": 11,
   "metadata": {},
   "outputs": [
    {
     "name": "stdout",
     "output_type": "stream",
     "text": [
      "['Btrue', 'Apple', 'Sdf']\n"
     ]
    }
   ],
   "source": [
    "ls= ['Btrue','ELAD','barak','Apple','ssss','Sdf']\n",
    "\n",
    "print (list(filter(lambda ls1: True if ls1[0].isupper() and ls1[1].islower() else False,ls)))\n",
    "\n"
   ]
  },
  {
   "cell_type": "code",
   "execution_count": 12,
   "metadata": {},
   "outputs": [
    {
     "name": "stdout",
     "output_type": "stream",
     "text": [
      "['44', '67']\n"
     ]
    }
   ],
   "source": [
    "ls = ['44','67','yt567','456743']\n",
    "print (list(filter(lambda ls1: True if ls1.isnumeric() and len(ls)>len(ls1) else False,ls)))"
   ]
  },
  {
   "cell_type": "code",
   "execution_count": 22,
   "metadata": {},
   "outputs": [
    {
     "name": "stdout",
     "output_type": "stream",
     "text": [
      "6\n",
      "28\n",
      "496\n",
      "8128\n"
     ]
    }
   ],
   "source": [
    "import math\n",
    "\n",
    "def checkPerfect(x):\n",
    "    mone=1\n",
    "    for i in range(2,x//2+1):\n",
    "            if x%i == 0:\n",
    "                mone += i\n",
    "    return mone==x\n",
    "def findOdd(x):\n",
    "    if x%2==0:\n",
    "        return False\n",
    "    return True\n",
    "\n",
    "for i in range(1,10000):\n",
    "    if checkPerfect(i) and not findOdd(i):\n",
    "        print(i)\n"
   ]
  },
  {
   "cell_type": "code",
   "execution_count": null,
   "metadata": {},
   "outputs": [],
   "source": []
  }
 ],
 "metadata": {
  "interpreter": {
   "hash": "aee8b7b246df8f9039afb4144a1f6fd8d2ca17a180786b69acc140d282b71a49"
  },
  "kernelspec": {
   "display_name": "Python 3.9.10 64-bit",
   "language": "python",
   "name": "python3"
  },
  "language_info": {
   "codemirror_mode": {
    "name": "ipython",
    "version": 3
   },
   "file_extension": ".py",
   "mimetype": "text/x-python",
   "name": "python",
   "nbconvert_exporter": "python",
   "pygments_lexer": "ipython3",
   "version": "3.9.10"
  },
  "orig_nbformat": 4
 },
 "nbformat": 4,
 "nbformat_minor": 2
}
