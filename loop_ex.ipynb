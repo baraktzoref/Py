{
 "cells": [
  {
   "cell_type": "code",
   "execution_count": null,
   "metadata": {},
   "outputs": [],
   "source": [
    "x=0\n",
    "for i in range(1,5):\n",
    "    x += i\n",
    "print (f'Total : {x}')"
   ]
  },
  {
   "cell_type": "code",
   "execution_count": null,
   "metadata": {},
   "outputs": [],
   "source": [
    "ls = []\n",
    "for i in range(1,4):\n",
    "    x = int(input(f'enter number {i}:'))\n",
    "    ls.append(x)\n",
    "x=ls[0]\n",
    "for i in ls:\n",
    "    if i > x:\n",
    "        x=i\n",
    "print(x)"
   ]
  },
  {
   "cell_type": "code",
   "execution_count": null,
   "metadata": {},
   "outputs": [],
   "source": [
    "str = \"hello my name is inigo montoya you killed my father prepare to die\"\n",
    "ls = str.split()\n",
    "x=0\n",
    "for i in ls:\n",
    "    if i == 'my':\n",
    "        x += 1\n",
    "print(f'number of my: {x}')"
   ]
  },
  {
   "cell_type": "code",
   "execution_count": 34,
   "metadata": {},
   "outputs": [
    {
     "name": "stdout",
     "output_type": "stream",
     "text": [
      "name with vowels\n"
     ]
    }
   ],
   "source": [
    "str1 = input(\"Enter name:\")\n",
    "arr = ['a','e','o','u','i']\n",
    "boolvaus = True\n",
    "while boolvaus:    \n",
    "    boolvaus = True\n",
    "    for s in arr:\n",
    "        if str1.lower().find(s) != -1:\n",
    "            #print(\"No vowels\")\n",
    "            boolvaus = False\n",
    "            break            \n",
    "    if boolvaus:\n",
    "        str1 = input(\"No vowels! Enter name:\")\n",
    "if not boolvaus:\n",
    "    print(\"name with vowels\")\n",
    "\n"
   ]
  },
  {
   "cell_type": "code",
   "execution_count": null,
   "metadata": {},
   "outputs": [],
   "source": [
    "str1 = input(\"Enter name:\")\n",
    "\n",
    "while not str1.startswith('N'):\n",
    "    str1.find('a')\n",
    "    str1 = input(\"Wrong! Enter new name:\")\n",
    "    counter += 1\n",
    "    if counter == 3:\n",
    "        print(\"3 tries ended\")\n",
    "        break;"
   ]
  },
  {
   "cell_type": "code",
   "execution_count": null,
   "metadata": {},
   "outputs": [],
   "source": []
  }
 ],
 "metadata": {
  "interpreter": {
   "hash": "aee8b7b246df8f9039afb4144a1f6fd8d2ca17a180786b69acc140d282b71a49"
  },
  "kernelspec": {
   "display_name": "Python 3.9.10 64-bit",
   "language": "python",
   "name": "python3"
  },
  "language_info": {
   "codemirror_mode": {
    "name": "ipython",
    "version": 3
   },
   "file_extension": ".py",
   "mimetype": "text/x-python",
   "name": "python",
   "nbconvert_exporter": "python",
   "pygments_lexer": "ipython3",
   "version": "3.9.10"
  },
  "orig_nbformat": 4
 },
 "nbformat": 4,
 "nbformat_minor": 2
}
